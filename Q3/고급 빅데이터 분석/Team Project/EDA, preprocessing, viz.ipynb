{
  "cells": [
    {
      "metadata": {
        "_uuid": "0922b05d66748c5f6b7d69cec91b8f74bcb60099"
      },
      "cell_type": "markdown",
      "source": "# KKBox Music Recommendation\n- 문제 정의 : 사용자의 과거 청취 데이터를 기반으로 해당 노래 재청취 여부 예측(Binary Classification)\n- 데이터 셋\n    - members : 유저에 대한 데이터(나이, 도시, 성별, 구독 경로 등)\n    - songs : 노래에 대한 데이터(길이, 장르, 작곡가, 작사가 등)\n    - songs_extra_info : 노래에 대한 추가적인 데이터(ISRC 코드)\n    - train : 유저, 노래, 어플 관련 데이터(노래가 재생된 탭, 첫 음악 재생 위치 등)\n    - test : 상동"
    },
    {
      "metadata": {
        "_uuid": "8f2839f25d086af736a60e9eeb907d3b93b6e0e5",
        "_cell_guid": "b1076dfc-b9ad-4769-8c92-a6c4dae69d19",
        "trusted": true
      },
      "cell_type": "code",
      "source": "import pandas as pd\nimport numpy as np\nimport matplotlib.pyplot as plt\nimport seaborn as sns",
      "execution_count": null,
      "outputs": []
    },
    {
      "metadata": {
        "_cell_guid": "79c7e3d0-c299-4dcb-8224-4455121ee9b0",
        "_uuid": "d629ff2d2480ee46fbb7e2d37f6b5fab8052498a",
        "trusted": true
      },
      "cell_type": "code",
      "source": "# seaborn의 그래프 스타일 지정\n#sns.set_style('ticks')",
      "execution_count": null,
      "outputs": []
    },
    {
      "metadata": {
        "trusted": true,
        "_uuid": "cd996b2e3b7a6edbfedc0c62e405b7edbb982908"
      },
      "cell_type": "code",
      "source": "# hide warning message\nimport warnings\nwarnings.filterwarnings('ignore')",
      "execution_count": null,
      "outputs": []
    },
    {
      "metadata": {
        "trusted": true,
        "_uuid": "64ddc8f4c94002c8bdc97644d12cd04c9dae39ea"
      },
      "cell_type": "code",
      "source": "# 데이터 셋 로드\n# 각 변수별 적절한 데이터 타입으로 미리 변환.\n\ntrain = pd.read_csv('../input/train.csv', dtype={'source_system_tab':'category',\n                                          'source_screen_name':'category',\n                                          'source_type':'category',\n                                          'target':np.uint8,\n                                          'song_id':'category'})",
      "execution_count": null,
      "outputs": []
    },
    {
      "metadata": {
        "trusted": true,
        "_uuid": "6b4d76fa0b504f4a0a9a28393f40631871764153"
      },
      "cell_type": "code",
      "source": "members = pd.read_csv('../input/members.csv', dtype={'city':'category'})",
      "execution_count": null,
      "outputs": []
    },
    {
      "metadata": {
        "trusted": true,
        "_uuid": "1f1066f7adb2271b19392b17b1d22dafe2329fac"
      },
      "cell_type": "code",
      "source": "members.rename(index=str, columns = {'bd':'age'}, inplace=True)",
      "execution_count": null,
      "outputs": []
    },
    {
      "metadata": {
        "trusted": true,
        "_uuid": "ac5aaf95ab261966db912f2775def9f39d8fda42"
      },
      "cell_type": "code",
      "source": "members.isnull().sum()",
      "execution_count": null,
      "outputs": []
    },
    {
      "metadata": {
        "_uuid": "5618e11aa492de930ee1d21f1c305e6157032de5"
      },
      "cell_type": "markdown",
      "source": "## city, age, gender 변수의 결측치\n- city는 가입시점 기준 유저의 거주 도시이고 `age`는 나이, `gender`는 성별을 의미한다.\n- Raw data에서는 `gender` 변수에만 결측치가 있었다.\n- 하지만, 1번 도시 거주자와 나이가 0세인 유저가 `gender`의 결측치와 동시에 함께 등장한다는 것을 발견했다.\n- 또한, KKBox 어플을 다운받아 확인한 결과, 거주 도시, 나이, 성별과 같은 정보를 입력하지 않고 건너뛰는 것이 가능했다.\n- 이를 통해 유저가 해당 정보를 입력하지 않고 건너뛸 경우 `city`는 1로, 'age'는 0으로, `gender`는 결측치로 입력된다고 판단했다.\n- 또, 나이가 70세를 초과하는 경우도 결측치로 판단했다.\n- 아래는 이를 검증하는 과정이다."
    },
    {
      "metadata": {
        "trusted": true,
        "_uuid": "dcbb5ad4e8e75dfa9fbde2fafab52805a9da0136"
      },
      "cell_type": "code",
      "source": "## City\n# 1번 도시 거주 유저 카운트 확인\ncity_1 = members['city'][members['city'] == '1'].count()\ncity_null_prop = (city_1 / len(members['city'])) * 100\n\nprint('* City')\nprint('- 1번 도시에 거주하는 유저 수 : {:,}명'.format(city_1))\nprint('- 전체 행 개수에서 1번 도시 거주 유저가 차지하는 비율 : {}%'.format(city_null_prop.round(2)))\n\n## Age\n# 나이가 0세 이하인 유저 수 확인\nbelow_0 = members['age'][members['age'] <= 0].count()\n\n# 나이가 70세 이상인 유저 수 확인\nabove_70 = members['age'][members['age'] >= 70].count()\n\n# 전체 행 개수에서 결측치가 차지하는 비율\nage_null_prop = ((below_0 + above_70) / len(members['age'])) * 100\n\nprint('\\n* Age')\nprint('- 0세 이하 또는 70세 이상 : {:,}명'.format(below_0 + above_70))\nprint('- 전체 행 개수에서 0세 이하 또는 70세 이상 유저의 비율 : {}%'.format(age_null_prop.round(2)))\n\n## Gender\n# 성별의 결측치 수 확인\ngender_null = members['gender'].isnull().sum()\ngender_null_prop = (gender_null / len(members['gender'])) * 100\n\nprint('\\n* Gender')\nprint('- 성별의 결측치 수 : {:,}명'.format(gender_null))\nprint('- 전체 행 개수에서 결측치가 차지하는 비율 : {}%'.format(gender_null_prop.round(2)))",
      "execution_count": null,
      "outputs": []
    },
    {
      "metadata": {
        "_uuid": "1bbb1aee8eb059c986e2336271c4561e429af757"
      },
      "cell_type": "markdown",
      "source": "- 결측치의 개수와 전체 행에서 결측치가 차지하는 비율을 확인한 결과, 세 변수 모두 거의 비슷했다."
    },
    {
      "metadata": {
        "trusted": true,
        "_uuid": "6048953ebea6cdf2259d654dfc1bd3495c95f465"
      },
      "cell_type": "code",
      "source": "# city 변수의 1번 도시를 결측 처리\nmembers['city'].replace('1', np.NaN, inplace=True)\n\n# age 변수의 이상치를 결측 처리\nmembers['age'][(members['age'] <= 0) | (members['age'] > 70)] = np.NaN",
      "execution_count": null,
      "outputs": []
    },
    {
      "metadata": {
        "trusted": true,
        "_uuid": "d81b786926b5e68c00fcbd7f79459f2842931f94"
      },
      "cell_type": "code",
      "source": "plt.style.use('ggplot')\nplt.figure(figsize=(9, 7))\n\ncity_null = members['city'].isnull().sum()\nage_null = members['age'].isnull().sum()\ngender_null = members['gender'].isnull().sum()\n\nvar_rows = (city_null, age_null, gender_null)\ntotal_rows = (len(members) - city_null, len(members) - age_null, len(members) - gender_null)\nN = 3\nind = np.arange(N)\nwidth = 0.35\n\np1 = plt.bar(ind, var_rows, width)\np2 = plt.bar(ind, total_rows, width, bottom = var_rows)\n\n\nplt.title('proportion of missing value in three variables', fontsize=18, fontweight=700)\nplt.xticks(ind, ('city', 'age', 'gender'), fontsize=16, fontweight=500)\nplt.ylabel('count of rows', fontsize=16, fontweight=700)\nplt.xlabel('columns', fontsize=16, fontweight=700)\nplt.legend((p1[0], p2[0]), ('missing values', 'total rows'), loc=0)\n\n\n#df.plot.bar(rot=0, subplots=True)\n#axes = members.plot.bar(rot=0, subplots=True)\n#axes[1].legend(loc=2)  # doctest: +SKIP",
      "execution_count": null,
      "outputs": []
    },
    {
      "metadata": {
        "trusted": true,
        "_uuid": "b52ce619854ec0ca0d94deec0b6fa660609d5ce6"
      },
      "cell_type": "code",
      "source": "## 결측치가 동시에 발생하는지 확인\n\n# city와 gender가 동시에 결측치가 발생하는 경우\ncity_gender = members[(members['city'].isnull()) & (members['gender'].isnull())]\n\n# city와 age가 동시에 결측치가 발생하는 경우\ncity_age = members[(members['city'].isnull()) & (members['age'].isnull())]\n\n# age와 gender가 동시에 결측치가 발생하는 경우\nage_gender = members[(members['age'].isnull()) & (members['gender'].isnull())]\n\n# city, age, gender가 동시에 결측치가 발생하는 경우\ncity_age_gender = members[(members['city'].isnull()) & (members['age'].isnull()) & (members['gender'].isnull())]\n\nprint('- city와 gender가 동시에 결측치가 발생하는 경우 : {:,}건'.format(len(city_gender)))\nprint('- city와 age가 동시에 결측치가 발생하는 경우 : {:,}건'.format(len(city_age)))\nprint('- age와 gender가 동시에 결측치가 발생하는 경우 : {:,}건'.format(len(age_gender)))\nprint('- city, age, gender가 동시에 결측치가 발생하는 경우 : {:,}건'.format(len(city_age_gender)))",
      "execution_count": null,
      "outputs": []
    },
    {
      "metadata": {
        "_uuid": "d9037b7cb48766ed53d43ad4abc2527470472f31"
      },
      "cell_type": "markdown",
      "source": "- 세 변수가 동시에 등장할 수 있는 모든 경우의 수를 확인한 결과, 거의 비슷했다.\n- 정확히 일치하지 않는 이유는 3개의 값 중 한두개의 값만 입력한 유저가 있기 때문일 것이다.\n- 이를 토대로 `city` 변수에서 값이 1인 경우와 `age`가 0세 이하 70세 초과인 경우도 모두 결측치로 변환했다."
    },
    {
      "metadata": {
        "trusted": true,
        "_uuid": "57d8d75f5938d0fc9a4dc2f4841058f53acf3e71"
      },
      "cell_type": "code",
      "source": "",
      "execution_count": null,
      "outputs": []
    },
    {
      "metadata": {
        "trusted": true,
        "_uuid": "e08f33d51b44ae109a80667b53df856ec6576998"
      },
      "cell_type": "code",
      "source": "",
      "execution_count": null,
      "outputs": []
    },
    {
      "metadata": {
        "trusted": true,
        "_uuid": "666ae29ce2e0f8efbda98b030340c083c987979f"
      },
      "cell_type": "markdown",
      "source": "## Q. 많이 청취된 곡은 재청취율도 높을까?"
    },
    {
      "metadata": {
        "trusted": true,
        "_uuid": "36de723ab1946177806ef85a47f74e10f339df62"
      },
      "cell_type": "code",
      "source": "song_grouped = pd.DataFrame(train.groupby('song_id')\\\n                            .agg({'song_id':'count','target':'mean'})\\\n                            .rename(index=str, columns={'song_id':'count','target':'mean_target'})\\\n                            .reset_index()\\\n                            .groupby('count')\\\n                            .agg({'song_id':'count', 'mean_target':'mean'})\\\n                            .reset_index()\\\n                            .rename(index=str, columns={'count':'occurrence', 'song_id':'number of songs', 'mean_target':'avg_target'}))\nprint(song_grouped.head())\nprint(song_grouped.tail())",
      "execution_count": null,
      "outputs": []
    },
    {
      "metadata": {
        "_uuid": "0e1aa66b2081f57babb2248e7b4a087ad842bb97"
      },
      "cell_type": "markdown",
      "source": "- '많이 청취된 곡은 재청취율도 높을까?' 이 물음에 대해 답하기 위해 위와 같이 두 번의 그룹화를 했다.\n- occurence는 곡의 등장횟수를 의미하고 number of songs는 그만큼 등장한 곡의 수, avg_target은 해당 곡들의 평균 재청취율을 의미한다.\n- 예를 들어 첫 번째 행의 경우 train 테이블에서 딱 1회 등장한 곡이 166,766개이며 이 곡들의 평균 재청취율은 37.7%라는 것을 의미한다.\n- 위의 head()와 tail()의 결과를 보면, 곡의 등장횟수가 많을 수록 재청취율도 높아진다는 것을 대략적으로 알 수 있지만, 더 정확히 알기 위해 그래프를 그려보기로 한다."
    },
    {
      "metadata": {
        "trusted": true,
        "_uuid": "9196c0b515bba54dd8a153b1acb60d453d74bcc7"
      },
      "cell_type": "code",
      "source": "plt.figure(figsize=(9, 7))\nsns.lineplot( x='occurrence', y='avg_target', data=song_grouped)",
      "execution_count": null,
      "outputs": []
    },
    {
      "metadata": {
        "trusted": true,
        "_uuid": "12ddfb4dd8c4dd10f367bb3e733d680c884e0e37"
      },
      "cell_type": "code",
      "source": "# 재생횟수와 재청취율의 상관관계\n\nnp.corrcoef(song_grouped['occurrence'], song_grouped['avg_target']) # 66%",
      "execution_count": null,
      "outputs": []
    },
    {
      "metadata": {
        "trusted": true,
        "_uuid": "0b31252275e0299b09c0821328204d415654e476"
      },
      "cell_type": "code",
      "source": "",
      "execution_count": null,
      "outputs": []
    },
    {
      "metadata": {
        "trusted": true,
        "_uuid": "51f6af6cf44e98fb175af93bef0512ef88218bb5"
      },
      "cell_type": "code",
      "source": "",
      "execution_count": null,
      "outputs": []
    },
    {
      "metadata": {
        "trusted": true,
        "_uuid": "3fb93e3d0d0dba1c890da9a2aa891e47aa08cd62"
      },
      "cell_type": "code",
      "source": "",
      "execution_count": null,
      "outputs": []
    },
    {
      "metadata": {
        "_uuid": "ead787ab25bb619a82dbbd67a827aa38e992ee8d"
      },
      "cell_type": "markdown",
      "source": "## Q. 노래를 많이 듣는 유저는 재청취율이 높을까?"
    },
    {
      "metadata": {
        "trusted": true,
        "_uuid": "620342f3244f3221755f8d66facc1505f5d081c6"
      },
      "cell_type": "code",
      "source": "user_grouped = pd.DataFrame(train.groupby('msno')\\\n                            .agg({'msno':'count','target':'mean'})\\\n                            .rename(index=str, columns={'msno':'count','target':'mean_target'})\\\n                            .reset_index()\\\n                            .groupby('count')\\\n                            .agg({'msno':'count', 'mean_target':'mean'})\\\n                            .reset_index()\\\n                            .rename(index=str, columns={'count':'occurrence', 'msno':'number of users', 'mean_target':'avg_target'}))\nprint(user_grouped.head())\nprint(user_grouped.tail())",
      "execution_count": null,
      "outputs": []
    },
    {
      "metadata": {
        "trusted": true,
        "_uuid": "e5bc60ec02900444ef8337a4e6e2f2d7cee776ac"
      },
      "cell_type": "code",
      "source": "np.corrcoef(user_grouped['occurrence'], user_grouped['avg_target'])",
      "execution_count": null,
      "outputs": []
    },
    {
      "metadata": {
        "trusted": true,
        "_uuid": "01547d2b3fa9d8cd847cb697ba950a4bd6302751"
      },
      "cell_type": "code",
      "source": "",
      "execution_count": null,
      "outputs": []
    },
    {
      "metadata": {
        "trusted": true,
        "_uuid": "8e9d1871843c5316424b01dafd54d5b3aa6fe239"
      },
      "cell_type": "code",
      "source": "top_users = pd.DataFrame(train.groupby('msno')\\\n                         .agg({'msno':'count','target':'mean'})\\\n                         .rename(index=str, columns={'msno':'count','target':'mean_target'})\\\n                         .reset_index()\\\n                         .sort_values('count', ascending=False))",
      "execution_count": null,
      "outputs": []
    },
    {
      "metadata": {
        "trusted": true,
        "_uuid": "12b98704ca336cca834438526321cf5f8bfc1278"
      },
      "cell_type": "code",
      "source": "top_users.head()",
      "execution_count": null,
      "outputs": []
    },
    {
      "metadata": {
        "trusted": true,
        "_uuid": "a5319226b40c9cb88b3595b172dbea3b1a900ea2"
      },
      "cell_type": "code",
      "source": "top_users2 = pd.DataFrame(train.groupby('msno')\\\n                         .agg({'msno':'count','target':'mean'})\\\n                         .rename(index=str, columns={'msno':'count','target':'mean_target'})\\\n                         .reset_index()\\\n                         .sort_values('mean_target', ascending=False))",
      "execution_count": null,
      "outputs": []
    },
    {
      "metadata": {
        "trusted": true,
        "_uuid": "874acc60f0295556d575e3f70413a7a6ae962706"
      },
      "cell_type": "code",
      "source": "top_users2.head(100)",
      "execution_count": null,
      "outputs": []
    },
    {
      "metadata": {
        "trusted": true,
        "_uuid": "d84d6bfcc625b2d64bfb91bee97951d7d0f8be27"
      },
      "cell_type": "code",
      "source": "",
      "execution_count": null,
      "outputs": []
    }
  ],
  "metadata": {
    "kernelspec": {
      "display_name": "Python 3",
      "language": "python",
      "name": "python3"
    },
    "language_info": {
      "name": "python",
      "version": "3.6.6",
      "mimetype": "text/x-python",
      "codemirror_mode": {
        "name": "ipython",
        "version": 3
      },
      "pygments_lexer": "ipython3",
      "nbconvert_exporter": "python",
      "file_extension": ".py"
    }
  },
  "nbformat": 4,
  "nbformat_minor": 1
}