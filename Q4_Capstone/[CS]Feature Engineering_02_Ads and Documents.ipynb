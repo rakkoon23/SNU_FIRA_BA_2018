{
 "cells": [
  {
   "cell_type": "code",
   "execution_count": 81,
   "metadata": {},
   "outputs": [],
   "source": [
    "import google.datalab.storage as storage\n",
    "import pandas as pd\n",
    "from io import BytesIO\n",
    "from google.datalab import Context\n",
    "import random, string\n",
    "import numpy as np\n",
    "import matplotlib.pyplot as plt"
   ]
  },
  {
   "cell_type": "code",
   "execution_count": 82,
   "metadata": {},
   "outputs": [],
   "source": [
    "# hide warning message\n",
    "import warnings\n",
    "warnings.filterwarnings('ignore')"
   ]
  },
  {
   "cell_type": "code",
   "execution_count": 83,
   "metadata": {},
   "outputs": [
    {
     "name": "stdout",
     "output_type": "stream",
     "text": [
      "clicks_test.csv\n",
      "clicks_train.csv\n",
      "documents_categories.csv\n",
      "documents_entities.csv\n",
      "documents_meta.csv\n",
      "documents_topics.csv\n",
      "events.csv\n",
      "page_views_sample.csv\n",
      "promoted_content.csv\n",
      "sample_submission.csv\n"
     ]
    }
   ],
   "source": [
    "shared_bucket = storage.Bucket('line_capstone')\n",
    "for obj in shared_bucket.objects():\n",
    "  if obj.key.find('/') < 0:\n",
    "    print(obj.key) # Bucket 내에 포함된 데이터 셋 확인 "
   ]
  },
  {
   "cell_type": "code",
   "execution_count": 84,
   "metadata": {},
   "outputs": [],
   "source": [
    "my_bucket = storage.Bucket('line_capstone')\n",
    "\n",
    "docu_meta = my_bucket.object('documents_meta.csv')\n",
    "uri5 = docu_meta.uri\n",
    "%gcs read --object $uri5 --variable c_docu_meta\n",
    "docu_meta = pd.read_csv(BytesIO(c_docu_meta))\n",
    "\n",
    "pro_cont = my_bucket.object('promoted_content.csv')\n",
    "uri9 = pro_cont.uri\n",
    "%gcs read --object $uri9 --variable c_pro_cont\n",
    "promoted = pd.read_csv(BytesIO(c_pro_cont))\n",
    "\n",
    "events = my_bucket.object('events.csv')\n",
    "uri7 = events.uri\n",
    "%gcs read --object $uri7 --variable c_events\n",
    "events = pd.read_csv(BytesIO(c_events))"
   ]
  },
  {
   "cell_type": "code",
   "execution_count": 85,
   "metadata": {},
   "outputs": [],
   "source": [
    "# promoted와 docu_meta를 document_id를 key로 해서 merge\n",
    "merged = pd.merge(events, docu_meta, how='inner', on='document_id')"
   ]
  },
  {
   "cell_type": "code",
   "execution_count": 86,
   "metadata": {},
   "outputs": [
    {
     "data": {
      "text/plain": [
       "document_id           0\n",
       "source_id          2518\n",
       "publisher_id      64024\n",
       "publish_time    1011118\n",
       "dtype: int64"
      ]
     },
     "execution_count": 86,
     "metadata": {},
     "output_type": "execute_result"
    }
   ],
   "source": [
    "# docu_meta에 NaN 값이 이미 많다.\n",
    "pd.isnull(docu_meta).sum()"
   ]
  },
  {
   "cell_type": "code",
   "execution_count": 87,
   "metadata": {},
   "outputs": [
    {
     "data": {
      "text/plain": [
       "display_id        0\n",
       "uuid              0\n",
       "document_id       0\n",
       "timestamp         0\n",
       "platform          0\n",
       "geo_location    340\n",
       "dtype: int64"
      ]
     },
     "execution_count": 87,
     "metadata": {},
     "output_type": "execute_result"
    }
   ],
   "source": [
    "# evenets의 NaN 값.\n",
    "pd.isnull(events).sum()"
   ]
  },
  {
   "cell_type": "code",
   "execution_count": 88,
   "metadata": {},
   "outputs": [
    {
     "data": {
      "text/plain": [
       "display_id            0\n",
       "uuid                  0\n",
       "document_id           0\n",
       "timestamp             0\n",
       "platform              0\n",
       "geo_location        340\n",
       "source_id          1322\n",
       "publisher_id       1323\n",
       "publish_time    3566273\n",
       "dtype: int64"
      ]
     },
     "execution_count": 88,
     "metadata": {},
     "output_type": "execute_result"
    }
   ],
   "source": [
    "# merge했을 때의 NaN 값.\n",
    "pd.isnull(merged).sum()"
   ]
  },
  {
   "cell_type": "code",
   "execution_count": 89,
   "metadata": {},
   "outputs": [],
   "source": [
    "# 필요한 변수들만 할당\n",
    "new_merged = merged.loc[:,['document_id','timestamp','publish_time']]"
   ]
  },
  {
   "cell_type": "code",
   "execution_count": 90,
   "metadata": {},
   "outputs": [],
   "source": [
    "# timestamp를 datetime으로 변환시키는 함수 정의\n",
    "import datetime\n",
    "def my_date(raw_date):\n",
    "  added_date = raw_date + 1465876799998 # timestamp에 캐글 공식 설명에 있던 숫자를 더해줌.\n",
    "  revised_date = pd.to_datetime((added_date // 1000), unit='s') # '밀리초'를 '초'로 바꾸고, string이기 때문에 unit='s' 옵션 설정 후 datetime으로 변환.\n",
    "  return revised_date"
   ]
  },
  {
   "cell_type": "code",
   "execution_count": 91,
   "metadata": {},
   "outputs": [],
   "source": [
    "# 위에서 정의한 함수를 사용하여 변환 후 새로운 변수에 할당.\n",
    "new_merged['new_timestamp'] = my_date(new_merged['timestamp'])"
   ]
  },
  {
   "cell_type": "code",
   "execution_count": 92,
   "metadata": {},
   "outputs": [
    {
     "data": {
      "text/plain": [
       "document_id            0\n",
       "timestamp              0\n",
       "publish_time     3566273\n",
       "new_timestamp          0\n",
       "dtype: int64"
      ]
     },
     "execution_count": 92,
     "metadata": {},
     "output_type": "execute_result"
    }
   ],
   "source": [
    "# 변수별 NaN값 개수 확인\n",
    "new_merged.isnull().sum()"
   ]
  },
  {
   "cell_type": "code",
   "execution_count": 93,
   "metadata": {},
   "outputs": [
    {
     "data": {
      "text/plain": [
       "3229"
      ]
     },
     "execution_count": 93,
     "metadata": {},
     "output_type": "execute_result"
    }
   ],
   "source": [
    "# 1970년 1월 1일 이전에 발행된 글은 3,229개이다.\n",
    "len(new_merged['publish_time'][new_merged['publish_time'] < '1970-01-01 00:00:00'])"
   ]
  },
  {
   "cell_type": "code",
   "execution_count": 94,
   "metadata": {},
   "outputs": [],
   "source": [
    "# 1970-01-01 이전에 발행된 글들을 모두 1970-01-01로 변경.\n",
    "new_merged['publish_time'][new_merged['publish_time'] < '1970-01-01 00:00:00'] = '1970-01-01 00:00:00'"
   ]
  },
  {
   "cell_type": "code",
   "execution_count": 95,
   "metadata": {},
   "outputs": [
    {
     "data": {
      "text/plain": [
       "238741"
      ]
     },
     "execution_count": 95,
     "metadata": {},
     "output_type": "execute_result"
    }
   ],
   "source": [
    "# 2016년 6월 28일 이후에 발행된 글들이 23만개나 된다.\n",
    "len(new_merged['publish_time'][new_merged['publish_time'] > '2016-06-29 00:00:00'])"
   ]
  },
  {
   "cell_type": "code",
   "execution_count": 96,
   "metadata": {},
   "outputs": [],
   "source": [
    "# 2016년 6월 28일 이후에 발행된 글들을 모두 2016년 6월 28일로 변경.\n",
    "new_merged['publish_time'][new_merged['publish_time'] > '2016-06-29 00:00:00'] = '2016-06-28 23:59:59'"
   ]
  },
  {
   "cell_type": "code",
   "execution_count": 97,
   "metadata": {},
   "outputs": [],
   "source": [
    "# object였던 publish_time의 dtype을 datetime64[ns]로 변경.\n",
    "new_merged['new_publish_time'] = pd.to_datetime(new_merged['publish_time'], format = '%Y-%m-%d %H:%M:%S')"
   ]
  },
  {
   "cell_type": "code",
   "execution_count": 103,
   "metadata": {},
   "outputs": [
    {
     "data": {
      "text/plain": [
       "document_id               0\n",
       "timestamp                 0\n",
       "publish_time        3566273\n",
       "new_timestamp             0\n",
       "new_publish_time    3566273\n",
       "diff                3566273\n",
       "dtype: int64"
      ]
     },
     "execution_count": 103,
     "metadata": {},
     "output_type": "execute_result"
    }
   ],
   "source": [
    "# 변경 후 각 변수별 NaT 값의 개수\n",
    "new_merged.isnull().sum()"
   ]
  },
  {
   "cell_type": "code",
   "execution_count": 99,
   "metadata": {},
   "outputs": [],
   "source": [
    "# 이벤트가 발생한 시간에서 글의 발행 날짜를 뺀 값을 diff 열에 할당.\n",
    "new_merged['diff'] = new_merged['new_timestamp'] - new_merged['new_publish_time']"
   ]
  },
  {
   "cell_type": "code",
   "execution_count": 100,
   "metadata": {},
   "outputs": [
    {
     "name": "stdout",
     "output_type": "stream",
     "text": [
      "<class 'pandas.core.frame.DataFrame'>\n",
      "Int64Index: 23120126 entries, 0 to 23120125\n",
      "Data columns (total 6 columns):\n",
      "document_id         int64\n",
      "timestamp           int64\n",
      "publish_time        object\n",
      "new_timestamp       datetime64[ns]\n",
      "new_publish_time    datetime64[ns]\n",
      "diff                timedelta64[ns]\n",
      "dtypes: datetime64[ns](2), int64(2), object(1), timedelta64[ns](1)\n",
      "memory usage: 1.8+ GB\n"
     ]
    }
   ],
   "source": [
    "new_merged.info()"
   ]
  },
  {
   "cell_type": "code",
   "execution_count": null,
   "metadata": {},
   "outputs": [],
   "source": [
    "## 아직 해결하지 못한 것\n",
    "# publish_time과 timestamp 모두 to_datetime으로 변환할 때, UTC=True를 적용하지 않았음.\n",
    "# 즉, time range 앞 뒤로 4시간 정도 유의미해 보이는 차이가 있던데, UTC=True를 적용해서 비교해보는 건 어떨까?\n",
    "# => 시도해보긴 했는데, 변화가 없었던 걸로 기억함."
   ]
  },
  {
   "cell_type": "code",
   "execution_count": null,
   "metadata": {},
   "outputs": [],
   "source": []
  }
 ],
 "metadata": {
  "kernelspec": {
   "display_name": "Python 3",
   "language": "python",
   "name": "python3"
  },
  "language_info": {
   "codemirror_mode": {
    "name": "ipython",
    "version": 3
   },
   "file_extension": ".py",
   "mimetype": "text/x-python",
   "name": "python",
   "nbconvert_exporter": "python",
   "pygments_lexer": "ipython3",
   "version": "3.5.5"
  }
 },
 "nbformat": 4,
 "nbformat_minor": 2
}
